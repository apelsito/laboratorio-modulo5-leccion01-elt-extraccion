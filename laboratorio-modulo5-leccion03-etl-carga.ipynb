{
 "cells": [
  {
   "cell_type": "markdown",
   "metadata": {},
   "source": [
    "<div style=\"text-align: center;\">\n",
    "  <img src=\"https://github.com/Hack-io-Data/Imagenes/blob/main/01-LogosHackio/logo_amarillo@4x.png?raw=true\" alt=\"esquema\" />\n",
    "</div>"
   ]
  },
  {
   "cell_type": "markdown",
   "metadata": {},
   "source": [
    "\n",
    "# Laboratorio ETL: Análisis del Sistema Energético en España\n",
    "\n",
    "## Objetivo\n",
    "\n",
    "Durante todos los laboratorios de esta semana realizarás un proceso completo de ETL para analizar la relación entre la demanda, el consumo y la generación eléctrica en diferentes provincias de España a lo largo de un año. Además, complementarán este análisis con datos demográficos y económicos extraídos del Instituto Nacional de Estadística (INE). El **objetivo principal** del análisis es **examinar cómo la demanda, el consumo y la generación eléctrica en diferentes provincias de España a lo largo de los años están influenciados por factores demográficos y económicos, como la población y el PIB provincial**. El análisis busca identificar patrones y correlaciones entre estas variables para comprender mejor las dinámicas energéticas regionales y su relación con el desarrollo socioeconómico en España.\n",
    "\n",
    "Antes de realizar el análisis, vamos a definir las hipótesis con las que vamos a trabajar, las cuales definirán todo tu análisis y planteamiento de los laboratorios: \n",
    "\n",
    "- **Hipótesis 1: La demanda eléctrica está correlacionada con la población de la provincia.** Provincias con mayor población tienden a tener una mayor demanda eléctrica.\n",
    "  \n",
    "- **Hipótesis 2: El crecimiento económico (medido por el PIB) está correlacionado con el consumo eléctrico.** Las provincias con un PIB más alto o en crecimiento experimentan un mayor consumo de energía.\n",
    "\n",
    "- **Hipótesis 3: La proporción de generación renovable está relacionada con factores económicos o geográficos.** Provincias con un mayor desarrollo económico o con condiciones geográficas favorables (como más horas de sol o viento) tienden a generar más energía renovable.\n",
    "\n",
    "\n",
    "## Tareas Laboratorio Carga\n",
    "\n",
    "En este laboratorio, tu objetivo será diseñar la estructura de una base de datos relacional, crear las tablas necesarias y cargar en ellas los datos limpios y preparados que obtuviste en el laboratorio anterior. Trabajarás con datos relacionados con la demanda, generación eléctrica, y variables socioeconómicas, almacenándolos de manera eficiente para facilitar el análisis y las consultas posteriores.\n",
    "\n",
    "\n",
    "\n"
   ]
  },
  {
   "cell_type": "code",
   "execution_count": 40,
   "metadata": {},
   "outputs": [],
   "source": [
    "# Manipulación de DataFrames y variables de entorno\n",
    "# -----------------------------------------------------------------------\n",
    "import pandas as pd                             # Manipulación y análisis de datos en estructuras DataFrame\n",
    "import dotenv                                   # Manejo de variables de entorno (.env)\n",
    "import os                                       # Interacción con el sistema operativo (lectura de variables de entorno)\n",
    "from datetime import datetime                   # Importación específica de datetime para facilitar manejo de fechas\n",
    "pd.set_option('display.max_columns', None)\n",
    "import sys\n",
    "sys.path.append(\"../\")                          # Añadir rutas externas para importar módulos desde carpetas superiores\n",
    "from src.SupportCreacionDB import (\n",
    "    conectarse_a_bd,\n",
    "    modificar_bd,\n",
    "    insertar_muchos_datos_bd,\n",
    "    generar_tupla,\n",
    ")\n",
    "\n",
    "from src.SupportInsercionDB import(\n",
    "    crear_dictio\n",
    ")"
   ]
  },
  {
   "cell_type": "code",
   "execution_count": 41,
   "metadata": {},
   "outputs": [],
   "source": [
    "df_demanda = pd.read_csv(\"datos\\DatosFinales\\RedElectrica\\DemandaElectrica.csv\",index_col=\"Unnamed: 0\")\n",
    "df_generacion = pd.read_csv(\"datos\\DatosFinales\\RedElectrica\\GeneracionElectrica.csv\",index_col=\"Unnamed: 0\")\n",
    "df_demograficos = pd.read_csv(\"datos\\DatosFinales\\INE\\DatosDemograficos2019-2021.csv\",index_col=\"Unnamed: 0\")\n",
    "df_pib = pd.read_csv(\"datos\\DatosFinales\\INE\\DatosPIB2019-2021.csv\",index_col=\"Unnamed: 0\")"
   ]
  },
  {
   "cell_type": "markdown",
   "metadata": {},
   "source": [
    "- **Diseño de la Base de Datos:** Define una estructura de base de datos relacional que sea adecuada para almacenar los datos de demanda eléctrica, generación eléctrica, población y PIB por provincia.\n",
    "\n",
    "\n",
    "- **Creación de la Base de Datos:** Escribe los scripts SQL necesarios para crear las tablas definidas en la estructura de la base de datos. Asegúrate de definir correctamente los tipos de datos y las restricciones (e.g., `NOT NULL`, `UNIQUE`).\n",
    "\n",
    "\n",
    "- **Carga de Datos en la Base de Datos:** Utiliza Python para cargar los datos limpios y preparados en las tablas de la base de datos. Asegúrate de que los datos se insertan correctamente, manejando posibles errores o inconsistencias en los datos."
   ]
  },
  {
   "cell_type": "markdown",
   "metadata": {},
   "source": [
    "# Unicas\n",
    "- comunidad\n",
    "- provincia\n",
    "- año\n",
    "- mes"
   ]
  },
  {
   "cell_type": "markdown",
   "metadata": {},
   "source": [
    "### año"
   ]
  },
  {
   "cell_type": "code",
   "execution_count": 42,
   "metadata": {},
   "outputs": [],
   "source": [
    "key = os.getenv(\"sql\")\n",
    "user = \"postgres\"\n",
    "db = \"modulo5\""
   ]
  },
  {
   "cell_type": "code",
   "execution_count": 43,
   "metadata": {},
   "outputs": [
    {
     "name": "stdout",
     "output_type": "stream",
     "text": [
      "Conectado a la base de datos: modulo5\n"
     ]
    }
   ],
   "source": [
    "conexion = conectarse_a_bd(db,user,key)\n",
    "cursor = conexion.cursor()"
   ]
  },
  {
   "cell_type": "code",
   "execution_count": 44,
   "metadata": {},
   "outputs": [],
   "source": [
    "df_demanda = pd.read_csv(\"datos\\DatosFinales\\RedElectrica\\DemandaElectrica.csv\",index_col=\"Unnamed: 0\")\n",
    "df_years = pd.DataFrame({\"anio\" : df_demanda[\"año\"].unique()})\n",
    "df_months = pd.DataFrame({\"mes\" : df_demanda[\"mes\"].unique()})"
   ]
  },
  {
   "cell_type": "code",
   "execution_count": 45,
   "metadata": {},
   "outputs": [
    {
     "data": {
      "text/html": [
       "<div>\n",
       "<style scoped>\n",
       "    .dataframe tbody tr th:only-of-type {\n",
       "        vertical-align: middle;\n",
       "    }\n",
       "\n",
       "    .dataframe tbody tr th {\n",
       "        vertical-align: top;\n",
       "    }\n",
       "\n",
       "    .dataframe thead th {\n",
       "        text-align: right;\n",
       "    }\n",
       "</style>\n",
       "<table border=\"1\" class=\"dataframe\">\n",
       "  <thead>\n",
       "    <tr style=\"text-align: right;\">\n",
       "      <th></th>\n",
       "      <th>index</th>\n",
       "      <th>anio</th>\n",
       "    </tr>\n",
       "  </thead>\n",
       "  <tbody>\n",
       "    <tr>\n",
       "      <th>0</th>\n",
       "      <td>1</td>\n",
       "      <td>2019</td>\n",
       "    </tr>\n",
       "    <tr>\n",
       "      <th>1</th>\n",
       "      <td>2</td>\n",
       "      <td>2020</td>\n",
       "    </tr>\n",
       "    <tr>\n",
       "      <th>2</th>\n",
       "      <td>3</td>\n",
       "      <td>2021</td>\n",
       "    </tr>\n",
       "  </tbody>\n",
       "</table>\n",
       "</div>"
      ],
      "text/plain": [
       "   index  anio\n",
       "0      1  2019\n",
       "1      2  2020\n",
       "2      3  2021"
      ]
     },
     "execution_count": 45,
     "metadata": {},
     "output_type": "execute_result"
    }
   ],
   "source": [
    "df_years.index = df_years.index + 1\n",
    "df_years.reset_index(inplace=True)\n",
    "df_years"
   ]
  },
  {
   "cell_type": "code",
   "execution_count": 46,
   "metadata": {},
   "outputs": [
    {
     "data": {
      "text/html": [
       "<div>\n",
       "<style scoped>\n",
       "    .dataframe tbody tr th:only-of-type {\n",
       "        vertical-align: middle;\n",
       "    }\n",
       "\n",
       "    .dataframe tbody tr th {\n",
       "        vertical-align: top;\n",
       "    }\n",
       "\n",
       "    .dataframe thead th {\n",
       "        text-align: right;\n",
       "    }\n",
       "</style>\n",
       "<table border=\"1\" class=\"dataframe\">\n",
       "  <thead>\n",
       "    <tr style=\"text-align: right;\">\n",
       "      <th></th>\n",
       "      <th>index</th>\n",
       "      <th>mes</th>\n",
       "    </tr>\n",
       "  </thead>\n",
       "  <tbody>\n",
       "    <tr>\n",
       "      <th>0</th>\n",
       "      <td>1</td>\n",
       "      <td>1</td>\n",
       "    </tr>\n",
       "    <tr>\n",
       "      <th>1</th>\n",
       "      <td>2</td>\n",
       "      <td>2</td>\n",
       "    </tr>\n",
       "    <tr>\n",
       "      <th>2</th>\n",
       "      <td>3</td>\n",
       "      <td>3</td>\n",
       "    </tr>\n",
       "    <tr>\n",
       "      <th>3</th>\n",
       "      <td>4</td>\n",
       "      <td>4</td>\n",
       "    </tr>\n",
       "    <tr>\n",
       "      <th>4</th>\n",
       "      <td>5</td>\n",
       "      <td>5</td>\n",
       "    </tr>\n",
       "    <tr>\n",
       "      <th>5</th>\n",
       "      <td>6</td>\n",
       "      <td>6</td>\n",
       "    </tr>\n",
       "    <tr>\n",
       "      <th>6</th>\n",
       "      <td>7</td>\n",
       "      <td>7</td>\n",
       "    </tr>\n",
       "    <tr>\n",
       "      <th>7</th>\n",
       "      <td>8</td>\n",
       "      <td>8</td>\n",
       "    </tr>\n",
       "    <tr>\n",
       "      <th>8</th>\n",
       "      <td>9</td>\n",
       "      <td>9</td>\n",
       "    </tr>\n",
       "    <tr>\n",
       "      <th>9</th>\n",
       "      <td>10</td>\n",
       "      <td>10</td>\n",
       "    </tr>\n",
       "    <tr>\n",
       "      <th>10</th>\n",
       "      <td>11</td>\n",
       "      <td>11</td>\n",
       "    </tr>\n",
       "    <tr>\n",
       "      <th>11</th>\n",
       "      <td>12</td>\n",
       "      <td>12</td>\n",
       "    </tr>\n",
       "  </tbody>\n",
       "</table>\n",
       "</div>"
      ],
      "text/plain": [
       "    index  mes\n",
       "0       1    1\n",
       "1       2    2\n",
       "2       3    3\n",
       "3       4    4\n",
       "4       5    5\n",
       "5       6    6\n",
       "6       7    7\n",
       "7       8    8\n",
       "8       9    9\n",
       "9      10   10\n",
       "10     11   11\n",
       "11     12   12"
      ]
     },
     "execution_count": 46,
     "metadata": {},
     "output_type": "execute_result"
    }
   ],
   "source": [
    "df_months.index = df_months.index + 1\n",
    "df_months.reset_index(inplace=True)\n",
    "df_months"
   ]
  },
  {
   "cell_type": "code",
   "execution_count": 31,
   "metadata": {},
   "outputs": [],
   "source": [
    "tupla_years = generar_tupla(df_years)\n",
    "tupla_month = generar_tupla(df_months)"
   ]
  },
  {
   "cell_type": "markdown",
   "metadata": {},
   "source": [
    "# Creamos años"
   ]
  },
  {
   "cell_type": "code",
   "execution_count": 29,
   "metadata": {},
   "outputs": [
    {
     "name": "stdout",
     "output_type": "stream",
     "text": [
      "Conectado a la base de datos: modulo5\n",
      "Se ha modificado correctamente la base de Datos\n"
     ]
    }
   ],
   "source": [
    "conexion = conectarse_a_bd(db,user,key)\n",
    "query = \"\"\"CREATE TABLE IF NOT EXISTS years (\n",
    "            id_year INT PRIMARY KEY,\n",
    "            year INT UNIQUE NOT NULL\n",
    "            );\"\"\"\n",
    "modificar_bd(conexion,query)"
   ]
  },
  {
   "cell_type": "markdown",
   "metadata": {},
   "source": [
    "### Insertamos datos"
   ]
  },
  {
   "cell_type": "code",
   "execution_count": 11,
   "metadata": {},
   "outputs": [
    {
     "name": "stdout",
     "output_type": "stream",
     "text": [
      "Conectado a la base de datos: modulo5\n",
      "Se han añadido los valores correctamente\n"
     ]
    }
   ],
   "source": [
    "conexion = conectarse_a_bd(db,user,key)\n",
    "query = \"\"\" INSERT INTO years(id_year,year) VALUES (%s,%s)\"\"\"\n",
    "insertar_muchos_datos_bd(conexion,query,tupla_years)"
   ]
  },
  {
   "cell_type": "markdown",
   "metadata": {},
   "source": [
    "# Creamos años"
   ]
  },
  {
   "cell_type": "code",
   "execution_count": 32,
   "metadata": {},
   "outputs": [
    {
     "name": "stdout",
     "output_type": "stream",
     "text": [
      "Conectado a la base de datos: modulo5\n",
      "Se ha modificado correctamente la base de Datos\n"
     ]
    }
   ],
   "source": [
    "conexion = conectarse_a_bd(db,user,key)\n",
    "query = \"\"\"CREATE TABLE IF NOT EXISTS month (\n",
    "            id_month INT PRIMARY KEY,\n",
    "            month INT UNIQUE NOT NULL\n",
    "            );\"\"\"\n",
    "modificar_bd(conexion,query)"
   ]
  },
  {
   "cell_type": "markdown",
   "metadata": {},
   "source": [
    "### Insertamos datos"
   ]
  },
  {
   "cell_type": "code",
   "execution_count": 33,
   "metadata": {},
   "outputs": [
    {
     "name": "stdout",
     "output_type": "stream",
     "text": [
      "Conectado a la base de datos: modulo5\n",
      "Se han añadido los valores correctamente\n"
     ]
    }
   ],
   "source": [
    "conexion = conectarse_a_bd(db,user,key)\n",
    "query = \"\"\" INSERT INTO month(id_month,month) VALUES (%s,%s)\"\"\"\n",
    "insertar_muchos_datos_bd(conexion,query,tupla_month)"
   ]
  },
  {
   "cell_type": "markdown",
   "metadata": {},
   "source": [
    "# Creamos comunidades_autonomas"
   ]
  },
  {
   "cell_type": "code",
   "execution_count": 47,
   "metadata": {},
   "outputs": [],
   "source": [
    "df_demograficos = pd.read_csv(\"datos\\DatosFinales\\INE\\DatosDemograficos2019-2021.csv\",index_col=\"Unnamed: 0\")"
   ]
  },
  {
   "cell_type": "code",
   "execution_count": 48,
   "metadata": {},
   "outputs": [
    {
     "data": {
      "text/html": [
       "<div>\n",
       "<style scoped>\n",
       "    .dataframe tbody tr th:only-of-type {\n",
       "        vertical-align: middle;\n",
       "    }\n",
       "\n",
       "    .dataframe tbody tr th {\n",
       "        vertical-align: top;\n",
       "    }\n",
       "\n",
       "    .dataframe thead th {\n",
       "        text-align: right;\n",
       "    }\n",
       "</style>\n",
       "<table border=\"1\" class=\"dataframe\">\n",
       "  <thead>\n",
       "    <tr style=\"text-align: right;\">\n",
       "      <th></th>\n",
       "      <th>comunidad_autonoma</th>\n",
       "      <th>provincias</th>\n",
       "      <th>edad (3 grupos de edad)</th>\n",
       "      <th>españoles/extranjeros</th>\n",
       "      <th>sexo</th>\n",
       "      <th>año</th>\n",
       "      <th>total</th>\n",
       "    </tr>\n",
       "  </thead>\n",
       "  <tbody>\n",
       "    <tr>\n",
       "      <th>177</th>\n",
       "      <td>Asturias</td>\n",
       "      <td>Asturias</td>\n",
       "      <td>65 y más</td>\n",
       "      <td>Extranjeros</td>\n",
       "      <td>Mujeres</td>\n",
       "      <td>2021</td>\n",
       "      <td>1440</td>\n",
       "    </tr>\n",
       "  </tbody>\n",
       "</table>\n",
       "</div>"
      ],
      "text/plain": [
       "    comunidad_autonoma provincias edad (3 grupos de edad)  \\\n",
       "177           Asturias   Asturias                65 y más   \n",
       "\n",
       "    españoles/extranjeros     sexo   año  total  \n",
       "177           Extranjeros  Mujeres  2021   1440  "
      ]
     },
     "execution_count": 48,
     "metadata": {},
     "output_type": "execute_result"
    }
   ],
   "source": [
    "df_demograficos.sample()"
   ]
  },
  {
   "cell_type": "code",
   "execution_count": 49,
   "metadata": {},
   "outputs": [],
   "source": [
    "df_ccaas = pd.DataFrame({\"ccaa\" : df_demograficos[\"comunidad_autonoma\"].unique()})"
   ]
  },
  {
   "cell_type": "code",
   "execution_count": 50,
   "metadata": {},
   "outputs": [
    {
     "data": {
      "text/html": [
       "<div>\n",
       "<style scoped>\n",
       "    .dataframe tbody tr th:only-of-type {\n",
       "        vertical-align: middle;\n",
       "    }\n",
       "\n",
       "    .dataframe tbody tr th {\n",
       "        vertical-align: top;\n",
       "    }\n",
       "\n",
       "    .dataframe thead th {\n",
       "        text-align: right;\n",
       "    }\n",
       "</style>\n",
       "<table border=\"1\" class=\"dataframe\">\n",
       "  <thead>\n",
       "    <tr style=\"text-align: right;\">\n",
       "      <th></th>\n",
       "      <th>index</th>\n",
       "      <th>ccaa</th>\n",
       "    </tr>\n",
       "  </thead>\n",
       "  <tbody>\n",
       "    <tr>\n",
       "      <th>0</th>\n",
       "      <td>1</td>\n",
       "      <td>Castilla-La Mancha</td>\n",
       "    </tr>\n",
       "    <tr>\n",
       "      <th>1</th>\n",
       "      <td>2</td>\n",
       "      <td>Comunidad Valenciana</td>\n",
       "    </tr>\n",
       "    <tr>\n",
       "      <th>2</th>\n",
       "      <td>3</td>\n",
       "      <td>Andalucía</td>\n",
       "    </tr>\n",
       "    <tr>\n",
       "      <th>3</th>\n",
       "      <td>4</td>\n",
       "      <td>País Vasco</td>\n",
       "    </tr>\n",
       "    <tr>\n",
       "      <th>4</th>\n",
       "      <td>5</td>\n",
       "      <td>Asturias</td>\n",
       "    </tr>\n",
       "    <tr>\n",
       "      <th>5</th>\n",
       "      <td>6</td>\n",
       "      <td>Castilla y León</td>\n",
       "    </tr>\n",
       "    <tr>\n",
       "      <th>6</th>\n",
       "      <td>7</td>\n",
       "      <td>Extremadura</td>\n",
       "    </tr>\n",
       "    <tr>\n",
       "      <th>7</th>\n",
       "      <td>8</td>\n",
       "      <td>Islas Baleares</td>\n",
       "    </tr>\n",
       "    <tr>\n",
       "      <th>8</th>\n",
       "      <td>9</td>\n",
       "      <td>Cataluña</td>\n",
       "    </tr>\n",
       "    <tr>\n",
       "      <th>9</th>\n",
       "      <td>10</td>\n",
       "      <td>Cantabria</td>\n",
       "    </tr>\n",
       "    <tr>\n",
       "      <th>10</th>\n",
       "      <td>11</td>\n",
       "      <td>Galicia</td>\n",
       "    </tr>\n",
       "    <tr>\n",
       "      <th>11</th>\n",
       "      <td>12</td>\n",
       "      <td>Aragón</td>\n",
       "    </tr>\n",
       "    <tr>\n",
       "      <th>12</th>\n",
       "      <td>13</td>\n",
       "      <td>Comunidad de Madrid</td>\n",
       "    </tr>\n",
       "    <tr>\n",
       "      <th>13</th>\n",
       "      <td>14</td>\n",
       "      <td>Región de Murcia</td>\n",
       "    </tr>\n",
       "    <tr>\n",
       "      <th>14</th>\n",
       "      <td>15</td>\n",
       "      <td>Navarra</td>\n",
       "    </tr>\n",
       "    <tr>\n",
       "      <th>15</th>\n",
       "      <td>16</td>\n",
       "      <td>Canarias</td>\n",
       "    </tr>\n",
       "    <tr>\n",
       "      <th>16</th>\n",
       "      <td>17</td>\n",
       "      <td>La Rioja</td>\n",
       "    </tr>\n",
       "    <tr>\n",
       "      <th>17</th>\n",
       "      <td>18</td>\n",
       "      <td>Ceuta</td>\n",
       "    </tr>\n",
       "    <tr>\n",
       "      <th>18</th>\n",
       "      <td>19</td>\n",
       "      <td>Melilla</td>\n",
       "    </tr>\n",
       "  </tbody>\n",
       "</table>\n",
       "</div>"
      ],
      "text/plain": [
       "    index                  ccaa\n",
       "0       1    Castilla-La Mancha\n",
       "1       2  Comunidad Valenciana\n",
       "2       3             Andalucía\n",
       "3       4            País Vasco\n",
       "4       5              Asturias\n",
       "5       6       Castilla y León\n",
       "6       7           Extremadura\n",
       "7       8        Islas Baleares\n",
       "8       9              Cataluña\n",
       "9      10             Cantabria\n",
       "10     11               Galicia\n",
       "11     12                Aragón\n",
       "12     13   Comunidad de Madrid\n",
       "13     14      Región de Murcia\n",
       "14     15               Navarra\n",
       "15     16              Canarias\n",
       "16     17              La Rioja\n",
       "17     18                 Ceuta\n",
       "18     19               Melilla"
      ]
     },
     "execution_count": 50,
     "metadata": {},
     "output_type": "execute_result"
    }
   ],
   "source": [
    "df_ccaas.index = df_ccaas.index + 1\n",
    "df_ccaas.reset_index(inplace=True)\n",
    "df_ccaas"
   ]
  },
  {
   "cell_type": "code",
   "execution_count": 8,
   "metadata": {},
   "outputs": [
    {
     "name": "stdout",
     "output_type": "stream",
     "text": [
      "Conectado a la base de datos: modulo5\n",
      "Se ha modificado correctamente la base de Datos\n"
     ]
    }
   ],
   "source": [
    "conexion = conectarse_a_bd(db,user,key)\n",
    "query = \"\"\"CREATE TABLE IF NOT EXISTS comunidades_autonomas (\n",
    "            id_ccaas INT PRIMARY KEY,\n",
    "            comunidad_autonoma VARCHAR(100) UNIQUE NOT NULL\n",
    "            );\"\"\"\n",
    "modificar_bd(conexion,query)"
   ]
  },
  {
   "cell_type": "code",
   "execution_count": 9,
   "metadata": {},
   "outputs": [],
   "source": [
    "tupla_ccaas = generar_tupla(df_ccaas)"
   ]
  },
  {
   "cell_type": "markdown",
   "metadata": {},
   "source": [
    "### Insertamos Datos"
   ]
  },
  {
   "cell_type": "code",
   "execution_count": 12,
   "metadata": {},
   "outputs": [
    {
     "name": "stdout",
     "output_type": "stream",
     "text": [
      "Conectado a la base de datos: modulo5\n",
      "Se han añadido los valores correctamente\n"
     ]
    }
   ],
   "source": [
    "conexion = conectarse_a_bd(db,user,key)\n",
    "query = \"\"\" INSERT INTO comunidades_autonomas(id_ccaas,comunidad_autonoma) VALUES (%s,%s)\"\"\"\n",
    "insertar_muchos_datos_bd(conexion,query,tupla_ccaas)"
   ]
  },
  {
   "cell_type": "markdown",
   "metadata": {},
   "source": [
    "# Creamos provincias"
   ]
  },
  {
   "cell_type": "code",
   "execution_count": 21,
   "metadata": {},
   "outputs": [],
   "source": [
    "df_provincias = pd.DataFrame({\"provincias\":df_pib[\"provincias\"].unique()})"
   ]
  },
  {
   "cell_type": "code",
   "execution_count": 22,
   "metadata": {},
   "outputs": [],
   "source": [
    "df_provincias.index = df_provincias.index + 1\n",
    "df_provincias.reset_index(inplace=True)\n"
   ]
  },
  {
   "cell_type": "code",
   "execution_count": 28,
   "metadata": {},
   "outputs": [
    {
     "name": "stdout",
     "output_type": "stream",
     "text": [
      "Conectado a la base de datos: modulo5\n",
      "Se ha modificado correctamente la base de Datos\n"
     ]
    }
   ],
   "source": [
    "conexion = conectarse_a_bd(db,user,key)\n",
    "query = \"\"\"CREATE TABLE IF NOT EXISTS provincias (\n",
    "            id_provincia INT PRIMARY KEY,\n",
    "            provincia VARCHAR(100) UNIQUE NOT NULL\n",
    "            );\"\"\"\n",
    "modificar_bd(conexion,query)"
   ]
  },
  {
   "cell_type": "code",
   "execution_count": 29,
   "metadata": {},
   "outputs": [],
   "source": [
    "tupla_provincias = generar_tupla(df_provincias)"
   ]
  },
  {
   "cell_type": "markdown",
   "metadata": {},
   "source": [
    "### Insertamos Datos"
   ]
  },
  {
   "cell_type": "code",
   "execution_count": 30,
   "metadata": {},
   "outputs": [
    {
     "name": "stdout",
     "output_type": "stream",
     "text": [
      "Conectado a la base de datos: modulo5\n",
      "Se han añadido los valores correctamente\n"
     ]
    }
   ],
   "source": [
    "conexion = conectarse_a_bd(db,user,key)\n",
    "query = \"\"\" INSERT INTO provincias(id_provincia,provincia) VALUES (%s,%s)\"\"\"\n",
    "insertar_muchos_datos_bd(conexion,query,tupla_provincias)"
   ]
  },
  {
   "cell_type": "markdown",
   "metadata": {},
   "source": [
    "# Ahora es hora de hacer cosas"
   ]
  },
  {
   "cell_type": "code",
   "execution_count": 132,
   "metadata": {},
   "outputs": [],
   "source": [
    "df_demanda = pd.read_csv(\"datos\\DatosFinales\\RedElectrica\\DemandaElectrica.csv\",index_col=\"Unnamed: 0\")\n",
    "df_generacion = pd.read_csv(\"datos\\DatosFinales\\RedElectrica\\GeneracionElectrica.csv\",index_col=\"Unnamed: 0\")\n",
    "df_demograficos = pd.read_csv(\"datos\\DatosFinales\\INE\\DatosDemograficos2019-2021.csv\",index_col=\"Unnamed: 0\")\n",
    "df_pib = pd.read_csv(\"datos\\DatosFinales\\INE\\DatosPIB2019-2021.csv\",index_col=\"Unnamed: 0\")"
   ]
  },
  {
   "cell_type": "code",
   "execution_count": 120,
   "metadata": {},
   "outputs": [
    {
     "data": {
      "text/html": [
       "<div>\n",
       "<style scoped>\n",
       "    .dataframe tbody tr th:only-of-type {\n",
       "        vertical-align: middle;\n",
       "    }\n",
       "\n",
       "    .dataframe tbody tr th {\n",
       "        vertical-align: top;\n",
       "    }\n",
       "\n",
       "    .dataframe thead th {\n",
       "        text-align: right;\n",
       "    }\n",
       "</style>\n",
       "<table border=\"1\" class=\"dataframe\">\n",
       "  <thead>\n",
       "    <tr style=\"text-align: right;\">\n",
       "      <th></th>\n",
       "      <th>index</th>\n",
       "      <th>provincias</th>\n",
       "    </tr>\n",
       "  </thead>\n",
       "  <tbody>\n",
       "    <tr>\n",
       "      <th>33</th>\n",
       "      <td>34</td>\n",
       "      <td>Ourense</td>\n",
       "    </tr>\n",
       "  </tbody>\n",
       "</table>\n",
       "</div>"
      ],
      "text/plain": [
       "    index provincias\n",
       "33     34    Ourense"
      ]
     },
     "execution_count": 120,
     "metadata": {},
     "output_type": "execute_result"
    }
   ],
   "source": [
    "df_provincias.sample()\n"
   ]
  },
  {
   "cell_type": "code",
   "execution_count": 88,
   "metadata": {},
   "outputs": [
    {
     "data": {
      "text/html": [
       "<div>\n",
       "<style scoped>\n",
       "    .dataframe tbody tr th:only-of-type {\n",
       "        vertical-align: middle;\n",
       "    }\n",
       "\n",
       "    .dataframe tbody tr th {\n",
       "        vertical-align: top;\n",
       "    }\n",
       "\n",
       "    .dataframe thead th {\n",
       "        text-align: right;\n",
       "    }\n",
       "</style>\n",
       "<table border=\"1\" class=\"dataframe\">\n",
       "  <thead>\n",
       "    <tr style=\"text-align: right;\">\n",
       "      <th></th>\n",
       "      <th>index</th>\n",
       "      <th>anio</th>\n",
       "    </tr>\n",
       "  </thead>\n",
       "  <tbody>\n",
       "    <tr>\n",
       "      <th>2</th>\n",
       "      <td>3</td>\n",
       "      <td>2021</td>\n",
       "    </tr>\n",
       "  </tbody>\n",
       "</table>\n",
       "</div>"
      ],
      "text/plain": [
       "   index  anio\n",
       "2      3  2021"
      ]
     },
     "execution_count": 88,
     "metadata": {},
     "output_type": "execute_result"
    }
   ],
   "source": [
    "df_years.sample()\n"
   ]
  },
  {
   "cell_type": "code",
   "execution_count": 54,
   "metadata": {},
   "outputs": [
    {
     "data": {
      "text/html": [
       "<div>\n",
       "<style scoped>\n",
       "    .dataframe tbody tr th:only-of-type {\n",
       "        vertical-align: middle;\n",
       "    }\n",
       "\n",
       "    .dataframe tbody tr th {\n",
       "        vertical-align: top;\n",
       "    }\n",
       "\n",
       "    .dataframe thead th {\n",
       "        text-align: right;\n",
       "    }\n",
       "</style>\n",
       "<table border=\"1\" class=\"dataframe\">\n",
       "  <thead>\n",
       "    <tr style=\"text-align: right;\">\n",
       "      <th></th>\n",
       "      <th>index</th>\n",
       "      <th>mes</th>\n",
       "    </tr>\n",
       "  </thead>\n",
       "  <tbody>\n",
       "    <tr>\n",
       "      <th>4</th>\n",
       "      <td>5</td>\n",
       "      <td>5</td>\n",
       "    </tr>\n",
       "  </tbody>\n",
       "</table>\n",
       "</div>"
      ],
      "text/plain": [
       "   index  mes\n",
       "4      5    5"
      ]
     },
     "execution_count": 54,
     "metadata": {},
     "output_type": "execute_result"
    }
   ],
   "source": [
    "df_months.sample()\n"
   ]
  },
  {
   "cell_type": "code",
   "execution_count": 55,
   "metadata": {},
   "outputs": [
    {
     "data": {
      "text/html": [
       "<div>\n",
       "<style scoped>\n",
       "    .dataframe tbody tr th:only-of-type {\n",
       "        vertical-align: middle;\n",
       "    }\n",
       "\n",
       "    .dataframe tbody tr th {\n",
       "        vertical-align: top;\n",
       "    }\n",
       "\n",
       "    .dataframe thead th {\n",
       "        text-align: right;\n",
       "    }\n",
       "</style>\n",
       "<table border=\"1\" class=\"dataframe\">\n",
       "  <thead>\n",
       "    <tr style=\"text-align: right;\">\n",
       "      <th></th>\n",
       "      <th>index</th>\n",
       "      <th>ccaa</th>\n",
       "    </tr>\n",
       "  </thead>\n",
       "  <tbody>\n",
       "    <tr>\n",
       "      <th>13</th>\n",
       "      <td>14</td>\n",
       "      <td>Región de Murcia</td>\n",
       "    </tr>\n",
       "  </tbody>\n",
       "</table>\n",
       "</div>"
      ],
      "text/plain": [
       "    index              ccaa\n",
       "13     14  Región de Murcia"
      ]
     },
     "execution_count": 55,
     "metadata": {},
     "output_type": "execute_result"
    }
   ],
   "source": [
    "df_ccaas.sample()"
   ]
  },
  {
   "cell_type": "code",
   "execution_count": 38,
   "metadata": {},
   "outputs": [
    {
     "data": {
      "text/html": [
       "<div>\n",
       "<style scoped>\n",
       "    .dataframe tbody tr th:only-of-type {\n",
       "        vertical-align: middle;\n",
       "    }\n",
       "\n",
       "    .dataframe tbody tr th {\n",
       "        vertical-align: top;\n",
       "    }\n",
       "\n",
       "    .dataframe thead th {\n",
       "        text-align: right;\n",
       "    }\n",
       "</style>\n",
       "<table border=\"1\" class=\"dataframe\">\n",
       "  <thead>\n",
       "    <tr style=\"text-align: right;\">\n",
       "      <th></th>\n",
       "      <th>comunidad_autónoma</th>\n",
       "      <th>demanda (MW)</th>\n",
       "      <th>porcentaje (%)</th>\n",
       "      <th>mes</th>\n",
       "      <th>año</th>\n",
       "    </tr>\n",
       "  </thead>\n",
       "  <tbody>\n",
       "    <tr>\n",
       "      <th>0</th>\n",
       "      <td>Extremadura</td>\n",
       "      <td>457953.307</td>\n",
       "      <td>1</td>\n",
       "      <td>1</td>\n",
       "      <td>2019</td>\n",
       "    </tr>\n",
       "  </tbody>\n",
       "</table>\n",
       "</div>"
      ],
      "text/plain": [
       "  comunidad_autónoma  demanda (MW)  porcentaje (%)  mes   año\n",
       "0        Extremadura    457953.307               1    1  2019"
      ]
     },
     "execution_count": 38,
     "metadata": {},
     "output_type": "execute_result"
    }
   ],
   "source": [
    "df_demanda.sample()"
   ]
  },
  {
   "cell_type": "code",
   "execution_count": 133,
   "metadata": {},
   "outputs": [],
   "source": [
    "dictio_ccaas = crear_dictio(df_ccaas,\"ccaa\")\n",
    "dictio_months = crear_dictio(df_months,\"mes\")\n",
    "dictio_years = crear_dictio(df_years,\"anio\")\n",
    "dictio_provincias = crear_dictio(df_provincias,\"provincias\")"
   ]
  },
  {
   "cell_type": "code",
   "execution_count": 134,
   "metadata": {},
   "outputs": [],
   "source": [
    "df_demanda[\"comunidad_autónoma\"] = df_demanda[\"comunidad_autónoma\"].map(dictio_ccaas)\n",
    "df_generacion[\"comunidad_autónoma\"] = df_generacion[\"comunidad_autónoma\"].map(dictio_ccaas)\n",
    "df_demograficos[\"comunidad_autonoma\"] = df_demograficos[\"comunidad_autonoma\"].map(dictio_ccaas)\n",
    "df_pib[\"comunidad_autonoma\"] = df_pib[\"comunidad_autonoma\"].map(dictio_ccaas)\n",
    "df_demanda = df_demanda.dropna(subset=\"comunidad_autónoma\")\n",
    "df_generacion = df_generacion.dropna(subset=\"comunidad_autónoma\")\n",
    "df_demograficos = df_demograficos.dropna(subset=\"comunidad_autonoma\")\n",
    "df_pib = df_pib.dropna(subset=\"comunidad_autonoma\")"
   ]
  },
  {
   "cell_type": "code",
   "execution_count": 135,
   "metadata": {},
   "outputs": [
    {
     "data": {
      "text/html": [
       "<div>\n",
       "<style scoped>\n",
       "    .dataframe tbody tr th:only-of-type {\n",
       "        vertical-align: middle;\n",
       "    }\n",
       "\n",
       "    .dataframe tbody tr th {\n",
       "        vertical-align: top;\n",
       "    }\n",
       "\n",
       "    .dataframe thead th {\n",
       "        text-align: right;\n",
       "    }\n",
       "</style>\n",
       "<table border=\"1\" class=\"dataframe\">\n",
       "  <thead>\n",
       "    <tr style=\"text-align: right;\">\n",
       "      <th></th>\n",
       "      <th>comunidad_autónoma</th>\n",
       "      <th>demanda (MW)</th>\n",
       "      <th>porcentaje (%)</th>\n",
       "      <th>mes</th>\n",
       "      <th>año</th>\n",
       "    </tr>\n",
       "  </thead>\n",
       "  <tbody>\n",
       "    <tr>\n",
       "      <th>0</th>\n",
       "      <td>3.0</td>\n",
       "      <td>3668893.328</td>\n",
       "      <td>1</td>\n",
       "      <td>1</td>\n",
       "      <td>2019</td>\n",
       "    </tr>\n",
       "    <tr>\n",
       "      <th>1</th>\n",
       "      <td>3.0</td>\n",
       "      <td>3152278.091</td>\n",
       "      <td>1</td>\n",
       "      <td>2</td>\n",
       "      <td>2019</td>\n",
       "    </tr>\n",
       "    <tr>\n",
       "      <th>2</th>\n",
       "      <td>3.0</td>\n",
       "      <td>3216356.360</td>\n",
       "      <td>1</td>\n",
       "      <td>3</td>\n",
       "      <td>2019</td>\n",
       "    </tr>\n",
       "    <tr>\n",
       "      <th>3</th>\n",
       "      <td>3.0</td>\n",
       "      <td>3029639.973</td>\n",
       "      <td>1</td>\n",
       "      <td>4</td>\n",
       "      <td>2019</td>\n",
       "    </tr>\n",
       "    <tr>\n",
       "      <th>4</th>\n",
       "      <td>3.0</td>\n",
       "      <td>3154123.467</td>\n",
       "      <td>1</td>\n",
       "      <td>5</td>\n",
       "      <td>2019</td>\n",
       "    </tr>\n",
       "  </tbody>\n",
       "</table>\n",
       "</div>"
      ],
      "text/plain": [
       "   comunidad_autónoma  demanda (MW)  porcentaje (%)  mes   año\n",
       "0                 3.0   3668893.328               1    1  2019\n",
       "1                 3.0   3152278.091               1    2  2019\n",
       "2                 3.0   3216356.360               1    3  2019\n",
       "3                 3.0   3029639.973               1    4  2019\n",
       "4                 3.0   3154123.467               1    5  2019"
      ]
     },
     "execution_count": 135,
     "metadata": {},
     "output_type": "execute_result"
    }
   ],
   "source": [
    "df_demanda.head()"
   ]
  },
  {
   "cell_type": "code",
   "execution_count": 136,
   "metadata": {},
   "outputs": [],
   "source": [
    "df_demanda[\"mes\"] = df_demanda[\"mes\"].map(dictio_months)"
   ]
  },
  {
   "cell_type": "code",
   "execution_count": 137,
   "metadata": {},
   "outputs": [
    {
     "name": "stdout",
     "output_type": "stream",
     "text": [
      "<class 'pandas.core.frame.DataFrame'>\n",
      "Index: 2118 entries, 0 to 2908\n",
      "Data columns (total 6 columns):\n",
      " #   Column              Non-Null Count  Dtype  \n",
      "---  ------              --------------  -----  \n",
      " 0   comunidad_autónoma  2118 non-null   float64\n",
      " 1   categoria           2118 non-null   object \n",
      " 2   generacion (MW)     2118 non-null   float64\n",
      " 3   porcentaje (%)      2118 non-null   float64\n",
      " 4   mes                 2118 non-null   int64  \n",
      " 5   año                 2118 non-null   int64  \n",
      "dtypes: float64(3), int64(2), object(1)\n",
      "memory usage: 115.8+ KB\n"
     ]
    }
   ],
   "source": [
    "df_generacion.info()"
   ]
  },
  {
   "cell_type": "code",
   "execution_count": 138,
   "metadata": {},
   "outputs": [],
   "source": [
    "df_demanda[\"año\"] = df_demanda[\"año\"].map(dictio_years)\n",
    "df_generacion[\"año\"] = df_generacion[\"año\"].map(dictio_years)\n",
    "df_pib[\"periodo\"] = df_pib[\"periodo\"].map(dictio_years)\n",
    "df_demograficos[\"año\"] = df_demograficos[\"año\"].map(dictio_years)"
   ]
  },
  {
   "cell_type": "code",
   "execution_count": 139,
   "metadata": {},
   "outputs": [],
   "source": [
    "df_demanda[\"comunidad_autónoma\"] = df_demanda[\"comunidad_autónoma\"].astype(int)\n",
    "df_generacion[\"comunidad_autónoma\"] = df_generacion[\"comunidad_autónoma\"].astype(int)"
   ]
  },
  {
   "cell_type": "code",
   "execution_count": 140,
   "metadata": {},
   "outputs": [
    {
     "data": {
      "text/html": [
       "<div>\n",
       "<style scoped>\n",
       "    .dataframe tbody tr th:only-of-type {\n",
       "        vertical-align: middle;\n",
       "    }\n",
       "\n",
       "    .dataframe tbody tr th {\n",
       "        vertical-align: top;\n",
       "    }\n",
       "\n",
       "    .dataframe thead th {\n",
       "        text-align: right;\n",
       "    }\n",
       "</style>\n",
       "<table border=\"1\" class=\"dataframe\">\n",
       "  <thead>\n",
       "    <tr style=\"text-align: right;\">\n",
       "      <th></th>\n",
       "      <th>comunidad_autónoma</th>\n",
       "      <th>categoria</th>\n",
       "      <th>generacion (MW)</th>\n",
       "      <th>porcentaje (%)</th>\n",
       "      <th>mes</th>\n",
       "      <th>año</th>\n",
       "    </tr>\n",
       "  </thead>\n",
       "  <tbody>\n",
       "    <tr>\n",
       "      <th>0</th>\n",
       "      <td>3</td>\n",
       "      <td>Hidráulica</td>\n",
       "      <td>25288.605</td>\n",
       "      <td>2.951685</td>\n",
       "      <td>1</td>\n",
       "      <td>1</td>\n",
       "    </tr>\n",
       "    <tr>\n",
       "      <th>1</th>\n",
       "      <td>3</td>\n",
       "      <td>Hidráulica</td>\n",
       "      <td>33933.350</td>\n",
       "      <td>3.077894</td>\n",
       "      <td>2</td>\n",
       "      <td>1</td>\n",
       "    </tr>\n",
       "    <tr>\n",
       "      <th>2</th>\n",
       "      <td>3</td>\n",
       "      <td>Hidráulica</td>\n",
       "      <td>35913.000</td>\n",
       "      <td>2.964454</td>\n",
       "      <td>3</td>\n",
       "      <td>1</td>\n",
       "    </tr>\n",
       "    <tr>\n",
       "      <th>3</th>\n",
       "      <td>3</td>\n",
       "      <td>Hidráulica</td>\n",
       "      <td>44050.848</td>\n",
       "      <td>4.133966</td>\n",
       "      <td>4</td>\n",
       "      <td>1</td>\n",
       "    </tr>\n",
       "    <tr>\n",
       "      <th>4</th>\n",
       "      <td>3</td>\n",
       "      <td>Hidráulica</td>\n",
       "      <td>88535.452</td>\n",
       "      <td>6.849683</td>\n",
       "      <td>5</td>\n",
       "      <td>1</td>\n",
       "    </tr>\n",
       "    <tr>\n",
       "      <th>...</th>\n",
       "      <td>...</td>\n",
       "      <td>...</td>\n",
       "      <td>...</td>\n",
       "      <td>...</td>\n",
       "      <td>...</td>\n",
       "      <td>...</td>\n",
       "    </tr>\n",
       "    <tr>\n",
       "      <th>2904</th>\n",
       "      <td>14</td>\n",
       "      <td>Otras renovables</td>\n",
       "      <td>3862.063</td>\n",
       "      <td>1.634825</td>\n",
       "      <td>8</td>\n",
       "      <td>3</td>\n",
       "    </tr>\n",
       "    <tr>\n",
       "      <th>2905</th>\n",
       "      <td>14</td>\n",
       "      <td>Otras renovables</td>\n",
       "      <td>3315.853</td>\n",
       "      <td>1.525090</td>\n",
       "      <td>9</td>\n",
       "      <td>3</td>\n",
       "    </tr>\n",
       "    <tr>\n",
       "      <th>2906</th>\n",
       "      <td>14</td>\n",
       "      <td>Otras renovables</td>\n",
       "      <td>3266.095</td>\n",
       "      <td>1.744503</td>\n",
       "      <td>10</td>\n",
       "      <td>3</td>\n",
       "    </tr>\n",
       "    <tr>\n",
       "      <th>2907</th>\n",
       "      <td>14</td>\n",
       "      <td>Otras renovables</td>\n",
       "      <td>2672.051</td>\n",
       "      <td>1.382990</td>\n",
       "      <td>11</td>\n",
       "      <td>3</td>\n",
       "    </tr>\n",
       "    <tr>\n",
       "      <th>2908</th>\n",
       "      <td>14</td>\n",
       "      <td>Otras renovables</td>\n",
       "      <td>2955.562</td>\n",
       "      <td>1.745686</td>\n",
       "      <td>12</td>\n",
       "      <td>3</td>\n",
       "    </tr>\n",
       "  </tbody>\n",
       "</table>\n",
       "<p>2118 rows × 6 columns</p>\n",
       "</div>"
      ],
      "text/plain": [
       "      comunidad_autónoma         categoria  generacion (MW)  porcentaje (%)  \\\n",
       "0                      3        Hidráulica        25288.605        2.951685   \n",
       "1                      3        Hidráulica        33933.350        3.077894   \n",
       "2                      3        Hidráulica        35913.000        2.964454   \n",
       "3                      3        Hidráulica        44050.848        4.133966   \n",
       "4                      3        Hidráulica        88535.452        6.849683   \n",
       "...                  ...               ...              ...             ...   \n",
       "2904                  14  Otras renovables         3862.063        1.634825   \n",
       "2905                  14  Otras renovables         3315.853        1.525090   \n",
       "2906                  14  Otras renovables         3266.095        1.744503   \n",
       "2907                  14  Otras renovables         2672.051        1.382990   \n",
       "2908                  14  Otras renovables         2955.562        1.745686   \n",
       "\n",
       "      mes  año  \n",
       "0       1    1  \n",
       "1       2    1  \n",
       "2       3    1  \n",
       "3       4    1  \n",
       "4       5    1  \n",
       "...   ...  ...  \n",
       "2904    8    3  \n",
       "2905    9    3  \n",
       "2906   10    3  \n",
       "2907   11    3  \n",
       "2908   12    3  \n",
       "\n",
       "[2118 rows x 6 columns]"
      ]
     },
     "execution_count": 140,
     "metadata": {},
     "output_type": "execute_result"
    }
   ],
   "source": [
    "df_generacion"
   ]
  },
  {
   "cell_type": "code",
   "execution_count": 141,
   "metadata": {},
   "outputs": [
    {
     "data": {
      "text/html": [
       "<div>\n",
       "<style scoped>\n",
       "    .dataframe tbody tr th:only-of-type {\n",
       "        vertical-align: middle;\n",
       "    }\n",
       "\n",
       "    .dataframe tbody tr th {\n",
       "        vertical-align: top;\n",
       "    }\n",
       "\n",
       "    .dataframe thead th {\n",
       "        text-align: right;\n",
       "    }\n",
       "</style>\n",
       "<table border=\"1\" class=\"dataframe\">\n",
       "  <thead>\n",
       "    <tr style=\"text-align: right;\">\n",
       "      <th></th>\n",
       "      <th>comunidad_autónoma</th>\n",
       "      <th>demanda (MW)</th>\n",
       "      <th>porcentaje (%)</th>\n",
       "      <th>mes</th>\n",
       "      <th>año</th>\n",
       "    </tr>\n",
       "  </thead>\n",
       "  <tbody>\n",
       "    <tr>\n",
       "      <th>0</th>\n",
       "      <td>3</td>\n",
       "      <td>3668893.328</td>\n",
       "      <td>1</td>\n",
       "      <td>1</td>\n",
       "      <td>1</td>\n",
       "    </tr>\n",
       "    <tr>\n",
       "      <th>1</th>\n",
       "      <td>3</td>\n",
       "      <td>3152278.091</td>\n",
       "      <td>1</td>\n",
       "      <td>2</td>\n",
       "      <td>1</td>\n",
       "    </tr>\n",
       "    <tr>\n",
       "      <th>2</th>\n",
       "      <td>3</td>\n",
       "      <td>3216356.360</td>\n",
       "      <td>1</td>\n",
       "      <td>3</td>\n",
       "      <td>1</td>\n",
       "    </tr>\n",
       "    <tr>\n",
       "      <th>3</th>\n",
       "      <td>3</td>\n",
       "      <td>3029639.973</td>\n",
       "      <td>1</td>\n",
       "      <td>4</td>\n",
       "      <td>1</td>\n",
       "    </tr>\n",
       "    <tr>\n",
       "      <th>4</th>\n",
       "      <td>3</td>\n",
       "      <td>3154123.467</td>\n",
       "      <td>1</td>\n",
       "      <td>5</td>\n",
       "      <td>1</td>\n",
       "    </tr>\n",
       "    <tr>\n",
       "      <th>...</th>\n",
       "      <td>...</td>\n",
       "      <td>...</td>\n",
       "      <td>...</td>\n",
       "      <td>...</td>\n",
       "      <td>...</td>\n",
       "    </tr>\n",
       "    <tr>\n",
       "      <th>7</th>\n",
       "      <td>14</td>\n",
       "      <td>901082.855</td>\n",
       "      <td>1</td>\n",
       "      <td>8</td>\n",
       "      <td>3</td>\n",
       "    </tr>\n",
       "    <tr>\n",
       "      <th>8</th>\n",
       "      <td>14</td>\n",
       "      <td>793300.950</td>\n",
       "      <td>1</td>\n",
       "      <td>9</td>\n",
       "      <td>3</td>\n",
       "    </tr>\n",
       "    <tr>\n",
       "      <th>9</th>\n",
       "      <td>14</td>\n",
       "      <td>707168.960</td>\n",
       "      <td>1</td>\n",
       "      <td>10</td>\n",
       "      <td>3</td>\n",
       "    </tr>\n",
       "    <tr>\n",
       "      <th>10</th>\n",
       "      <td>14</td>\n",
       "      <td>723781.406</td>\n",
       "      <td>1</td>\n",
       "      <td>11</td>\n",
       "      <td>3</td>\n",
       "    </tr>\n",
       "    <tr>\n",
       "      <th>11</th>\n",
       "      <td>14</td>\n",
       "      <td>781601.118</td>\n",
       "      <td>1</td>\n",
       "      <td>12</td>\n",
       "      <td>3</td>\n",
       "    </tr>\n",
       "  </tbody>\n",
       "</table>\n",
       "<p>504 rows × 5 columns</p>\n",
       "</div>"
      ],
      "text/plain": [
       "    comunidad_autónoma  demanda (MW)  porcentaje (%)  mes  año\n",
       "0                    3   3668893.328               1    1    1\n",
       "1                    3   3152278.091               1    2    1\n",
       "2                    3   3216356.360               1    3    1\n",
       "3                    3   3029639.973               1    4    1\n",
       "4                    3   3154123.467               1    5    1\n",
       "..                 ...           ...             ...  ...  ...\n",
       "7                   14    901082.855               1    8    3\n",
       "8                   14    793300.950               1    9    3\n",
       "9                   14    707168.960               1   10    3\n",
       "10                  14    723781.406               1   11    3\n",
       "11                  14    781601.118               1   12    3\n",
       "\n",
       "[504 rows x 5 columns]"
      ]
     },
     "execution_count": 141,
     "metadata": {},
     "output_type": "execute_result"
    }
   ],
   "source": [
    "df_demanda"
   ]
  },
  {
   "cell_type": "code",
   "execution_count": 143,
   "metadata": {},
   "outputs": [
    {
     "data": {
      "text/html": [
       "<div>\n",
       "<style scoped>\n",
       "    .dataframe tbody tr th:only-of-type {\n",
       "        vertical-align: middle;\n",
       "    }\n",
       "\n",
       "    .dataframe tbody tr th {\n",
       "        vertical-align: top;\n",
       "    }\n",
       "\n",
       "    .dataframe thead th {\n",
       "        text-align: right;\n",
       "    }\n",
       "</style>\n",
       "<table border=\"1\" class=\"dataframe\">\n",
       "  <thead>\n",
       "    <tr style=\"text-align: right;\">\n",
       "      <th></th>\n",
       "      <th>comunidad_autonoma</th>\n",
       "      <th>provincias</th>\n",
       "      <th>ramas de actividad</th>\n",
       "      <th>magnitud</th>\n",
       "      <th>periodo</th>\n",
       "      <th>total</th>\n",
       "    </tr>\n",
       "  </thead>\n",
       "  <tbody>\n",
       "    <tr>\n",
       "      <th>0</th>\n",
       "      <td>1</td>\n",
       "      <td>Albacete</td>\n",
       "      <td>A. Agricultura, ganadería, silvicultura y pesca</td>\n",
       "      <td>Empleo total (miles de personas)</td>\n",
       "      <td>3</td>\n",
       "      <td>15.3</td>\n",
       "    </tr>\n",
       "    <tr>\n",
       "      <th>1</th>\n",
       "      <td>1</td>\n",
       "      <td>Albacete</td>\n",
       "      <td>A. Agricultura, ganadería, silvicultura y pesca</td>\n",
       "      <td>Empleo total (miles de personas)</td>\n",
       "      <td>2</td>\n",
       "      <td>15.3</td>\n",
       "    </tr>\n",
       "    <tr>\n",
       "      <th>2</th>\n",
       "      <td>1</td>\n",
       "      <td>Albacete</td>\n",
       "      <td>A. Agricultura, ganadería, silvicultura y pesca</td>\n",
       "      <td>Empleo total (miles de personas)</td>\n",
       "      <td>1</td>\n",
       "      <td>14.3</td>\n",
       "    </tr>\n",
       "    <tr>\n",
       "      <th>3</th>\n",
       "      <td>1</td>\n",
       "      <td>Albacete</td>\n",
       "      <td>A. Agricultura, ganadería, silvicultura y pesca</td>\n",
       "      <td>Empleo asalariado (miles de personas)</td>\n",
       "      <td>3</td>\n",
       "      <td>11.5</td>\n",
       "    </tr>\n",
       "    <tr>\n",
       "      <th>4</th>\n",
       "      <td>1</td>\n",
       "      <td>Albacete</td>\n",
       "      <td>A. Agricultura, ganadería, silvicultura y pesca</td>\n",
       "      <td>Empleo asalariado (miles de personas)</td>\n",
       "      <td>2</td>\n",
       "      <td>10.9</td>\n",
       "    </tr>\n",
       "    <tr>\n",
       "      <th>...</th>\n",
       "      <td>...</td>\n",
       "      <td>...</td>\n",
       "      <td>...</td>\n",
       "      <td>...</td>\n",
       "      <td>...</td>\n",
       "      <td>...</td>\n",
       "    </tr>\n",
       "    <tr>\n",
       "      <th>2179</th>\n",
       "      <td>19</td>\n",
       "      <td>Melilla</td>\n",
       "      <td>O_U. Administración pública y defensa, segurid...</td>\n",
       "      <td>Empleo total (miles de personas)</td>\n",
       "      <td>2</td>\n",
       "      <td>18.0</td>\n",
       "    </tr>\n",
       "    <tr>\n",
       "      <th>2180</th>\n",
       "      <td>19</td>\n",
       "      <td>Melilla</td>\n",
       "      <td>O_U. Administración pública y defensa, segurid...</td>\n",
       "      <td>Empleo total (miles de personas)</td>\n",
       "      <td>1</td>\n",
       "      <td>17.7</td>\n",
       "    </tr>\n",
       "    <tr>\n",
       "      <th>2181</th>\n",
       "      <td>19</td>\n",
       "      <td>Melilla</td>\n",
       "      <td>O_U. Administración pública y defensa, segurid...</td>\n",
       "      <td>Empleo asalariado (miles de personas)</td>\n",
       "      <td>3</td>\n",
       "      <td>18.3</td>\n",
       "    </tr>\n",
       "    <tr>\n",
       "      <th>2182</th>\n",
       "      <td>19</td>\n",
       "      <td>Melilla</td>\n",
       "      <td>O_U. Administración pública y defensa, segurid...</td>\n",
       "      <td>Empleo asalariado (miles de personas)</td>\n",
       "      <td>2</td>\n",
       "      <td>17.5</td>\n",
       "    </tr>\n",
       "    <tr>\n",
       "      <th>2183</th>\n",
       "      <td>19</td>\n",
       "      <td>Melilla</td>\n",
       "      <td>O_U. Administración pública y defensa, segurid...</td>\n",
       "      <td>Empleo asalariado (miles de personas)</td>\n",
       "      <td>1</td>\n",
       "      <td>17.3</td>\n",
       "    </tr>\n",
       "  </tbody>\n",
       "</table>\n",
       "<p>2184 rows × 6 columns</p>\n",
       "</div>"
      ],
      "text/plain": [
       "      comunidad_autonoma provincias  \\\n",
       "0                      1   Albacete   \n",
       "1                      1   Albacete   \n",
       "2                      1   Albacete   \n",
       "3                      1   Albacete   \n",
       "4                      1   Albacete   \n",
       "...                  ...        ...   \n",
       "2179                  19    Melilla   \n",
       "2180                  19    Melilla   \n",
       "2181                  19    Melilla   \n",
       "2182                  19    Melilla   \n",
       "2183                  19    Melilla   \n",
       "\n",
       "                                     ramas de actividad  \\\n",
       "0       A. Agricultura, ganadería, silvicultura y pesca   \n",
       "1       A. Agricultura, ganadería, silvicultura y pesca   \n",
       "2       A. Agricultura, ganadería, silvicultura y pesca   \n",
       "3       A. Agricultura, ganadería, silvicultura y pesca   \n",
       "4       A. Agricultura, ganadería, silvicultura y pesca   \n",
       "...                                                 ...   \n",
       "2179  O_U. Administración pública y defensa, segurid...   \n",
       "2180  O_U. Administración pública y defensa, segurid...   \n",
       "2181  O_U. Administración pública y defensa, segurid...   \n",
       "2182  O_U. Administración pública y defensa, segurid...   \n",
       "2183  O_U. Administración pública y defensa, segurid...   \n",
       "\n",
       "                                   magnitud  periodo  total  \n",
       "0          Empleo total (miles de personas)        3   15.3  \n",
       "1          Empleo total (miles de personas)        2   15.3  \n",
       "2          Empleo total (miles de personas)        1   14.3  \n",
       "3     Empleo asalariado (miles de personas)        3   11.5  \n",
       "4     Empleo asalariado (miles de personas)        2   10.9  \n",
       "...                                     ...      ...    ...  \n",
       "2179       Empleo total (miles de personas)        2   18.0  \n",
       "2180       Empleo total (miles de personas)        1   17.7  \n",
       "2181  Empleo asalariado (miles de personas)        3   18.3  \n",
       "2182  Empleo asalariado (miles de personas)        2   17.5  \n",
       "2183  Empleo asalariado (miles de personas)        1   17.3  \n",
       "\n",
       "[2184 rows x 6 columns]"
      ]
     },
     "execution_count": 143,
     "metadata": {},
     "output_type": "execute_result"
    }
   ],
   "source": [
    "df_pib"
   ]
  },
  {
   "cell_type": "code",
   "execution_count": 144,
   "metadata": {},
   "outputs": [
    {
     "data": {
      "text/html": [
       "<div>\n",
       "<style scoped>\n",
       "    .dataframe tbody tr th:only-of-type {\n",
       "        vertical-align: middle;\n",
       "    }\n",
       "\n",
       "    .dataframe tbody tr th {\n",
       "        vertical-align: top;\n",
       "    }\n",
       "\n",
       "    .dataframe thead th {\n",
       "        text-align: right;\n",
       "    }\n",
       "</style>\n",
       "<table border=\"1\" class=\"dataframe\">\n",
       "  <thead>\n",
       "    <tr style=\"text-align: right;\">\n",
       "      <th></th>\n",
       "      <th>comunidad_autonoma</th>\n",
       "      <th>provincias</th>\n",
       "      <th>edad (3 grupos de edad)</th>\n",
       "      <th>españoles/extranjeros</th>\n",
       "      <th>sexo</th>\n",
       "      <th>año</th>\n",
       "      <th>total</th>\n",
       "    </tr>\n",
       "  </thead>\n",
       "  <tbody>\n",
       "    <tr>\n",
       "      <th>0</th>\n",
       "      <td>1</td>\n",
       "      <td>Albacete</td>\n",
       "      <td>0-15 años</td>\n",
       "      <td>Españoles</td>\n",
       "      <td>Hombres</td>\n",
       "      <td>3</td>\n",
       "      <td>27304</td>\n",
       "    </tr>\n",
       "    <tr>\n",
       "      <th>1</th>\n",
       "      <td>1</td>\n",
       "      <td>Albacete</td>\n",
       "      <td>0-15 años</td>\n",
       "      <td>Españoles</td>\n",
       "      <td>Hombres</td>\n",
       "      <td>2</td>\n",
       "      <td>27979</td>\n",
       "    </tr>\n",
       "    <tr>\n",
       "      <th>2</th>\n",
       "      <td>1</td>\n",
       "      <td>Albacete</td>\n",
       "      <td>0-15 años</td>\n",
       "      <td>Españoles</td>\n",
       "      <td>Hombres</td>\n",
       "      <td>1</td>\n",
       "      <td>28513</td>\n",
       "    </tr>\n",
       "    <tr>\n",
       "      <th>3</th>\n",
       "      <td>1</td>\n",
       "      <td>Albacete</td>\n",
       "      <td>0-15 años</td>\n",
       "      <td>Españoles</td>\n",
       "      <td>Mujeres</td>\n",
       "      <td>3</td>\n",
       "      <td>25547</td>\n",
       "    </tr>\n",
       "    <tr>\n",
       "      <th>4</th>\n",
       "      <td>1</td>\n",
       "      <td>Albacete</td>\n",
       "      <td>0-15 años</td>\n",
       "      <td>Españoles</td>\n",
       "      <td>Mujeres</td>\n",
       "      <td>2</td>\n",
       "      <td>25953</td>\n",
       "    </tr>\n",
       "    <tr>\n",
       "      <th>...</th>\n",
       "      <td>...</td>\n",
       "      <td>...</td>\n",
       "      <td>...</td>\n",
       "      <td>...</td>\n",
       "      <td>...</td>\n",
       "      <td>...</td>\n",
       "      <td>...</td>\n",
       "    </tr>\n",
       "    <tr>\n",
       "      <th>1867</th>\n",
       "      <td>19</td>\n",
       "      <td>Melilla</td>\n",
       "      <td>65 y más</td>\n",
       "      <td>Extranjeros</td>\n",
       "      <td>Hombres</td>\n",
       "      <td>2</td>\n",
       "      <td>447</td>\n",
       "    </tr>\n",
       "    <tr>\n",
       "      <th>1868</th>\n",
       "      <td>19</td>\n",
       "      <td>Melilla</td>\n",
       "      <td>65 y más</td>\n",
       "      <td>Extranjeros</td>\n",
       "      <td>Hombres</td>\n",
       "      <td>1</td>\n",
       "      <td>422</td>\n",
       "    </tr>\n",
       "    <tr>\n",
       "      <th>1869</th>\n",
       "      <td>19</td>\n",
       "      <td>Melilla</td>\n",
       "      <td>65 y más</td>\n",
       "      <td>Extranjeros</td>\n",
       "      <td>Mujeres</td>\n",
       "      <td>3</td>\n",
       "      <td>489</td>\n",
       "    </tr>\n",
       "    <tr>\n",
       "      <th>1870</th>\n",
       "      <td>19</td>\n",
       "      <td>Melilla</td>\n",
       "      <td>65 y más</td>\n",
       "      <td>Extranjeros</td>\n",
       "      <td>Mujeres</td>\n",
       "      <td>2</td>\n",
       "      <td>486</td>\n",
       "    </tr>\n",
       "    <tr>\n",
       "      <th>1871</th>\n",
       "      <td>19</td>\n",
       "      <td>Melilla</td>\n",
       "      <td>65 y más</td>\n",
       "      <td>Extranjeros</td>\n",
       "      <td>Mujeres</td>\n",
       "      <td>1</td>\n",
       "      <td>443</td>\n",
       "    </tr>\n",
       "  </tbody>\n",
       "</table>\n",
       "<p>1872 rows × 7 columns</p>\n",
       "</div>"
      ],
      "text/plain": [
       "      comunidad_autonoma provincias edad (3 grupos de edad)  \\\n",
       "0                      1   Albacete               0-15 años   \n",
       "1                      1   Albacete               0-15 años   \n",
       "2                      1   Albacete               0-15 años   \n",
       "3                      1   Albacete               0-15 años   \n",
       "4                      1   Albacete               0-15 años   \n",
       "...                  ...        ...                     ...   \n",
       "1867                  19    Melilla                65 y más   \n",
       "1868                  19    Melilla                65 y más   \n",
       "1869                  19    Melilla                65 y más   \n",
       "1870                  19    Melilla                65 y más   \n",
       "1871                  19    Melilla                65 y más   \n",
       "\n",
       "     españoles/extranjeros     sexo  año  total  \n",
       "0                Españoles  Hombres    3  27304  \n",
       "1                Españoles  Hombres    2  27979  \n",
       "2                Españoles  Hombres    1  28513  \n",
       "3                Españoles  Mujeres    3  25547  \n",
       "4                Españoles  Mujeres    2  25953  \n",
       "...                    ...      ...  ...    ...  \n",
       "1867           Extranjeros  Hombres    2    447  \n",
       "1868           Extranjeros  Hombres    1    422  \n",
       "1869           Extranjeros  Mujeres    3    489  \n",
       "1870           Extranjeros  Mujeres    2    486  \n",
       "1871           Extranjeros  Mujeres    1    443  \n",
       "\n",
       "[1872 rows x 7 columns]"
      ]
     },
     "execution_count": 144,
     "metadata": {},
     "output_type": "execute_result"
    }
   ],
   "source": [
    "df_demograficos"
   ]
  },
  {
   "cell_type": "code",
   "execution_count": null,
   "metadata": {},
   "outputs": [],
   "source": []
  }
 ],
 "metadata": {
  "kernelspec": {
   "display_name": "Python 3",
   "language": "python",
   "name": "python3"
  },
  "language_info": {
   "codemirror_mode": {
    "name": "ipython",
    "version": 3
   },
   "file_extension": ".py",
   "mimetype": "text/x-python",
   "name": "python",
   "nbconvert_exporter": "python",
   "pygments_lexer": "ipython3",
   "version": "3.11.9"
  }
 },
 "nbformat": 4,
 "nbformat_minor": 2
}
