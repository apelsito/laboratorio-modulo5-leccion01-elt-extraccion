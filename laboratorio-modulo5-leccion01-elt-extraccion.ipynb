{
 "cells": [
  {
   "cell_type": "markdown",
   "metadata": {},
   "source": [
    "\n",
    "<div style=\"text-align: center;\">\n",
    "  <img src=\"https://github.com/Hack-io-Data/Imagenes/blob/main/01-LogosHackio/logo_amarillo@4x.png?raw=true\" alt=\"esquema\" />\n",
    "</div>"
   ]
  },
  {
   "cell_type": "markdown",
   "metadata": {},
   "source": [
    "\n",
    "# Laboratorio ETL: Análisis del Sistema Energético en España\n",
    "\n",
    "## Objetivo\n",
    "\n",
    "Durante todos los laboratorios de esta semana realizarás un proceso completo de ETL para analizar la relación entre la demanda, el consumo y la generación eléctrica en diferentes provincias de España a lo largo de un año. Además, complementarán este análisis con datos demográficos y económicos extraídos del Instituto Nacional de Estadística (INE). El **objetivo principal** del análisis es **examinar cómo la demanda, el consumo y la generación eléctrica en diferentes provincias de España a lo largo de los años están influenciados por factores demográficos y económicos, como la población y el PIB provincial**. El análisis busca identificar patrones y correlaciones entre estas variables para comprender mejor las dinámicas energéticas regionales y su relación con el desarrollo socioeconómico en España.\n",
    "\n",
    "Antes de realizar el análisis, vamos a definir las hipótesis con las que vamos a trabajar, las cuales definirán todo tu análisis y planteamiento de los laboratorios: \n",
    "\n",
    "- **Hipótesis 1: La demanda eléctrica está correlacionada con la población de la provincia.** Provincias con mayor población tienden a tener una mayor demanda eléctrica.\n",
    "  \n",
    "- **Hipótesis 2: El crecimiento económico (medido por el PIB) está correlacionado con la demanda eléctrica.** Las provincias con un PIB más alto o en crecimiento experimentan una mayor demanda de energía.\n",
    "\n",
    "- **Hipótesis 3: La proporción de generación renovable está relacionada con factores económicos o geográficos.** Provincias con un mayor desarrollo económico o con condiciones geográficas favorables (como más horas de sol o viento) tienden a generar más energía renovable.\n",
    "\n",
    "\n",
    "## Tareas Laboratorio Extracción\n",
    "\n",
    "En el laboratorio de hoy tendrás que extraer la información necesaria para obtener tu objetivo de las siguientes fuentes de datos (deberás usar API's y herramientas de *web scrapping*):\n",
    "\n",
    "- **Datos de la API de Red Eléctrica Española (REE):** Deberás extraer datos mensuales a nivel comunidad_autónoma de los siguientes aspectos:\n",
    "\n",
    "  - **Demanda Eléctrica:** Nos proporciona los datos de demanda eléctrica a nivel provincial, agregados de manera mensual. Tendrás que usar el endpoint de \"https://apidatos.ree.es/es/datos/demanda/evolucion\", añadiendo los parámetros que sean necesarios. \n",
    "\n",
    "  - **Generación Eléctrica:** Nos proporciona los datos de generación eléctrica a nivel provincial, diferenciando entre fuentes de energía (eólica, solar, hidroeléctrica, etc.), agregados de manera mensual. Tendrás que usar el endpoint de \"https://apidatos.ree.es/es/datos/generacion/estructura-renovables\", añadiendo los parámetros que sean necesarios.\n",
    "\n",
    "  La documentación de la API la encontrarás en [este link](https://www.ree.es/es/apidatos). Recuerda leer en detenimiento la documentación. \n",
    "\n",
    "- **Datos del Instituto Nacional de Estadística (INE):** Además de los datos de la REE, debes extraer y utilizar datos socioeconómicos de las siguientes páginas del INE:\n",
    "\n",
    "- **Datos Demográficos:** Extraer los datos de población por provincias, diferenciando por grupos de edad, sexo, y extrajeros. Estos datos serán utilizados para analizar cómo la población afecta a la demanda eléctrica en cada provincia.\n",
    "\n",
    "  - **Página web:** [INE - Población por provincias](https://www.ine.es/dyngs/INEbase/es/operacion.htm?c=Estadistica_C&cid=1254736177012&menu=resultados&idp=1254734710990)\n",
    "\n",
    "  - \"Principales series 1998-2022\" --> \"Por provincia\" --> \" Población por provincias, edad (3 grupos de edad), españoles/Extranjeros, Sexo y año\"\n",
    "\n",
    "- **Datos Económicos:**\n",
    "\n",
    "  - **Página web:** [INE - PIB por provincias](https://www.ine.es/dynt3/inebase/es/index.htm?padre=10426&capsel=10429). \n",
    "\n",
    "  - **Pasos para la extracción**:\" Resultados provinciales. Serie contable 2016-2021\" --> \"P.I.B. a precios de mercado y valor añadido bruto a precios básicos por ramas de actividad: Precios corrientes por provincias y periodo.\"\n",
    "\n",
    "\n",
    "\n",
    "NOTA1: Tienes que sacar muchos datos, pero recuerda que hemos aprendido herramientas de asincronia que te pueden ayudar en este paso de la ETL. \n",
    "\n",
    "NOTA2: Todos estos datos los debes sacar para los años 2019-2020-2021"
   ]
  },
  {
   "cell_type": "code",
   "execution_count": 130,
   "metadata": {},
   "outputs": [],
   "source": [
    "from selenium.webdriver.support.ui import WebDriverWait\n",
    "from selenium.webdriver.common.by import By\n",
    "from selenium.webdriver.common.keys import Keys\n",
    "from selenium.webdriver.support import expected_conditions as EC\n",
    "from time import sleep\n",
    "# Selenium para establecer la configuración del driver\n",
    "# -----------------------------------------------------------------------\n",
    "from selenium import webdriver\n",
    "\n",
    "# Para generar una barra de proceso en los bucles for\n",
    "# -----------------------------------------------------------------------\n",
    "from tqdm import tqdm\n",
    "\n",
    "# Para trabajar con ficheros\n",
    "# -----------------------------------------------------------------------\n",
    "import os\n",
    "import requests\n",
    "import re\n",
    "import json\n",
    "import zipfile\n",
    "import shutil"
   ]
  },
  {
   "cell_type": "markdown",
   "metadata": {},
   "source": [
    "\n",
    "# Crear directorios "
   ]
  },
  {
   "cell_type": "code",
   "execution_count": 77,
   "metadata": {},
   "outputs": [],
   "source": [
    "ruta_datos_y_datosdescargados = \"datos/DatosDescargados\"\n",
    "os.makedirs(ruta_datos_y_datosdescargados,exist_ok=True)\n"
   ]
  },
  {
   "cell_type": "markdown",
   "metadata": {},
   "source": [
    "# Extraer INE por provincia (Población)"
   ]
  },
  {
   "cell_type": "code",
   "execution_count": 78,
   "metadata": {},
   "outputs": [
    {
     "name": "stdout",
     "output_type": "stream",
     "text": [
      "Encontrado\n"
     ]
    }
   ],
   "source": [
    "# lo primero que vamos a hacer es configurar nuestras preferencias del navegador para el driver\n",
    "chrome_options = webdriver.ChromeOptions()\n",
    "\n",
    "# establacemos las preferencias que queremos\n",
    "prefs = {\n",
    "    \n",
    "    \"download.default_directory\": \"C:\\\\Users\\\\ruipe\\\\Desktop\\\\Data Science\\\\Semana 5\\\\labs\\\\laboratorio 1\\\\datos\\\\DatosDescargados\\\\\",  # AQUÍ CADA UNO TENDREMOS QUE PONER LA RUTA QUE QUERAMOS PARA QUE SE GUARDEN LOS ARCHIVOS DESCARGADOS\n",
    "    \"download.prompt_for_download\": False,   # desactiva el diálogo que Chrome normalmente muestra para pedir confirmación del usuario antes de descargar un archivo\n",
    "    \"directory_upgrade\": True,    # hace que Chrome actualice el directorio de descarga predeterminado a la nueva ubicación especificada por download.default_directory si esta ha cambiado.\n",
    "}\n",
    "\n",
    "url = \"https://www.ine.es/dyngs/INEbase/es/operacion.htm?c=Estadistica_C&cid=1254736177012&menu=resultados&idp=1254734710990\"\n",
    "chrome_options.add_experimental_option(\"prefs\", prefs)\n",
    "\n",
    "driver = webdriver.Chrome(options=chrome_options)\n",
    "driver.get(url)\n",
    "driver.maximize_window()\n",
    "sleep(1)\n",
    "driver.find_element(\"css selector\",\"#aceptarCookie\").click()\n",
    "sleep(1)\n",
    "#Hacer click en Provincias\n",
    "tabla = driver.find_element(\"css selector\",\"#cuerpo\")\n",
    "subtabla = tabla.find_element(\"css selector\", \"#tabs-1254736195461 > div:nth-child(2) > div.cuerpo_centro_principal_IBresul\")\n",
    "opciones = subtabla.find_element(\"xpath\",\"/html/body/div/main/section[2]/div[1]/div[1]/div[1]/ul/li\")\n",
    "opciones.find_element(\"xpath\",\"/html/body/div/main/section[2]/div[1]/div[1]/div[1]/ul/li/ul/li[3]/a\").click()\n",
    "sleep(1)\n",
    "#Hacer scroll y click en Población por provincias, edad (3 grupos de edad), españoles/Extranjeros, Sexo y año\n",
    "driver.execute_script(\"window.scrollTo(0, 200)\")\n",
    "tabla_provincias = driver.find_element(\"xpath\",\"/html/body/div/main/div[2]/ul/li[4]\")\n",
    "tabla_provincias.find_element(\"xpath\",\"/html/body/div/main/div[2]/ul/li[4]/ul/li[1]/a\").click()\n",
    "sleep(1)\n",
    "#Hacer click en todo primera tabla\n",
    "body = driver.find_element(\"xpath\",\"/html/body/div/main/form\")\n",
    "opciones_descarga = body.find_element(\"xpath\",\"/html/body/div/main/form/ul\")\n",
    "tabla1 = opciones_descarga.find_element(\"xpath\",\"/html/body/div[1]/main/form/ul/li[1]/ul/li[1]/div/fieldset\")\n",
    "tabla1_seccion=tabla1.find_element(\"xpath\",\"/html/body/div/main/form/ul/li[1]/ul/li[1]/div/fieldset/div[2]\")\n",
    "tabla1_seccion.find_element(\"xpath\",\"/html/body/div/main/form/ul/li[1]/ul/li[1]/div/fieldset/div[2]/button[1]\").click()\n",
    "\n",
    "#Hacer click en todo segunda tabla\n",
    "tabla2 = opciones_descarga.find_element(\"xpath\",\"/html/body/div/main/form/ul/li[1]/ul/li[2]/div/fieldset\")\n",
    "tabla2_seccion = tabla2.find_element(\"xpath\",\"/html/body/div/main/form/ul/li[1]/ul/li[2]/div/fieldset/div[2]\")\n",
    "tabla2_seccion.find_element(\"xpath\",\"/html/body/div/main/form/ul/li[1]/ul/li[2]/div/fieldset/div[2]/button[1]\").click()\n",
    "\n",
    "#Hacer click en todo tercera tabla\n",
    "tabla3 = opciones_descarga.find_element(\"xpath\",\"/html/body/div/main/form/ul/li[1]/ul/li[3]/div/fieldset\")  \n",
    "tabla3_seccion = tabla3.find_element(\"xpath\",\"/html/body/div/main/form/ul/li[1]/ul/li[3]/div/fieldset/div[2]\")\n",
    "tabla3_seccion.find_element(\"xpath\",\"/html/body/div/main/form/ul/li[1]/ul/li[3]/div/fieldset/div[2]/button[1]\").click()\n",
    "\n",
    "#Hacer click en todo cuarta tabla\n",
    "tabla4 = opciones_descarga.find_element(\"xpath\",\"/html/body/div/main/form/ul/li[1]/ul/li[4]/div/fieldset\")  \n",
    "tabla4_seccion = tabla4.find_element(\"xpath\",\"/html/body/div/main/form/ul/li[1]/ul/li[4]/div/fieldset/div[2]\")\n",
    "tabla4_seccion.find_element(\"xpath\",\"/html/body/div/main/form/ul/li[1]/ul/li[4]/div/fieldset/div[2]/button[1]\").click()\n",
    "\n",
    "#Hacer click en año 2019 tabla\n",
    "tabla5 = opciones_descarga.find_element(\"xpath\",\"/html/body/div/main/form/ul/li[1]/ul/li[5]/div/fieldset\")\n",
    "tabla5.find_element(\"xpath\",\"/html/body/div/main/form/ul/li[1]/ul/li[5]/div/fieldset/select/option[1]\").click()\n",
    "tabla5.find_element(\"xpath\",\"/html/body/div/main/form/ul/li[1]/ul/li[5]/div/fieldset/select/option[2]\").click()\n",
    "tabla5.find_element(\"xpath\",\"/html/body/div/main/form/ul/li[1]/ul/li[5]/div/fieldset/select/option[3]\").click()\n",
    "tabla5.find_element(\"xpath\",\"/html/body/div/main/form/ul/li[1]/ul/li[5]/div/fieldset/select/option[4]\").click()\n",
    "\n",
    "body.find_element(\"xpath\",\"/html/body/div/main/form/div[5]/input[3]\").click()\n",
    "\n",
    "# Hacer click en descargar\n",
    "sleep(2)\n",
    "driver.find_element(\"xpath\",\"/html/body/div[1]/main/ul/li/div/div/form[2]/button\").click()\n",
    "sleep(1)\n",
    "\n",
    "select_download = WebDriverWait(driver,40).until(EC.presence_of_element_located(('xpath','/html/body/div[6]/article/div/div/iframe')))\n",
    "driver.switch_to.frame(select_download)\n",
    "sleep(2)\n",
    "try:\n",
    "    driver.find_element(\"xpath\", \"/html/body/form/ul/li[4]/label\").click()\n",
    "    print(\"Encontrado\")\n",
    "except:\n",
    "    print(\"Cagaste\")\n",
    "sleep(2)\n",
    "driver.quit()"
   ]
  },
  {
   "cell_type": "code",
   "execution_count": 84,
   "metadata": {},
   "outputs": [],
   "source": [
    "old_archivo = os.listdir(ruta_datos_y_datosdescargados)[0]\n",
    "new_archivo = \"DatosInePorProvincias2019-2021.csv\"\n",
    "os.rename(f\"{ruta_datos_y_datosdescargados}/{old_archivo}\",f\"{ruta_datos_y_datosdescargados}/{new_archivo}\")"
   ]
  },
  {
   "cell_type": "markdown",
   "metadata": {},
   "source": [
    "# Extraer PIB por Provincia"
   ]
  },
  {
   "cell_type": "code",
   "execution_count": 97,
   "metadata": {},
   "outputs": [
    {
     "name": "stdout",
     "output_type": "stream",
     "text": [
      "Encontrado\n"
     ]
    }
   ],
   "source": [
    "# lo primero que vamos a hacer es configurar nuestras preferencias del navegador para el driver\n",
    "chrome_options = webdriver.ChromeOptions()\n",
    "\n",
    "# establacemos las preferencias que queremos\n",
    "prefs = {\n",
    "    \n",
    "    \"download.default_directory\": \"C:\\\\Users\\\\ruipe\\\\Desktop\\\\Data Science\\\\Semana 5\\\\labs\\\\laboratorio 1\\\\datos\\\\DatosDescargados\\\\\",  # AQUÍ CADA UNO TENDREMOS QUE PONER LA RUTA QUE QUERAMOS PARA QUE SE GUARDEN LOS ARCHIVOS DESCARGADOS\n",
    "    \"download.prompt_for_download\": False,   # desactiva el diálogo que Chrome normalmente muestra para pedir confirmación del usuario antes de descargar un archivo\n",
    "    \"directory_upgrade\": True,    # hace que Chrome actualice el directorio de descarga predeterminado a la nueva ubicación especificada por download.default_directory si esta ha cambiado.\n",
    "}\n",
    "\n",
    "url = \"https://www.ine.es/dynt3/inebase/es/index.htm?padre=10426&capsel=10429\"\n",
    "chrome_options.add_experimental_option(\"prefs\", prefs)\n",
    "\n",
    "driver = webdriver.Chrome(options=chrome_options)\n",
    "driver.get(url)\n",
    "driver.maximize_window()\n",
    "sleep(1)\n",
    "driver.find_element(\"css selector\",\"#aceptarCookie\").click()\n",
    "sleep(1)\n",
    "# Hacer click en el enlace \n",
    "main = driver.find_element(\"xpath\",\"/html/body/div/main\")\n",
    "tabla = main.find_element(\"xpath\",\"/html/body/div/main/div[2]/ul\")\n",
    "tree = tabla.find_element(\"xpath\",\"/html/body/div/main/div[2]/ul/li[3]\")\n",
    "ul = tree.find_element(\"xpath\",\"/html/body/div/main/div[2]/ul/li[3]/ul\")\n",
    "ul.find_element(\"xpath\",\"/html/body/div/main/div[2]/ul/li[3]/ul/li[2]/a\").click()\n",
    "\n",
    "#Hacer click en todo primera tabla\n",
    "body = driver.find_element(\"xpath\",\"/html/body/div[1]/main/form\")\n",
    "opciones_descarga = body.find_element(\"xpath\",\"/html/body/div/main/form/ul/li[1]/ul/li[2]/div/fieldset\")\n",
    "tabla1 = opciones_descarga.find_element(\"xpath\",\"/html/body/div/main/form/ul/li[1]/ul/li[2]/div/fieldset/div[2]\")\n",
    "opciones_descarga.find_element(\"xpath\",\"/html/body/div/main/form/ul/li[1]/ul/li[2]/div/fieldset/div[2]/button[1]\").click()\n",
    "\n",
    "#Hacer click en todo segunda tabla\n",
    "opciones_descarga = body.find_element(\"xpath\",\"/html/body/div/main/form/ul/li[1]/ul/li[3]/div/fieldset\")\n",
    "tabla2 = opciones_descarga.find_element(\"xpath\",\"/html/body/div/main/form/ul/li[1]/ul/li[3]/div/fieldset/div[2]\")\n",
    "opciones_descarga.find_element(\"xpath\",\"/html/body/div/main/form/ul/li[1]/ul/li[3]/div/fieldset/div[2]/button[1]\").click()\n",
    "\n",
    "#Hacer click en 2019,2020 y 2021\n",
    "opciones_descarga = body.find_element(\"xpath\",\"/html/body/div/main/form/ul/li[1]/ul/li[3]/div/fieldset\")\n",
    "tabla3 = opciones_descarga.find_element(\"xpath\",\"/html/body/div/main/form/ul/li[1]/ul/li[4]/div/fieldset/select\")\n",
    "tabla3.find_element(\"xpath\",\"/html/body/div/main/form/ul/li[1]/ul/li[4]/div/fieldset/select/option[2]\").click()\n",
    "tabla3.find_element(\"xpath\",\"/html/body/div/main/form/ul/li[1]/ul/li[4]/div/fieldset/select/option[3]\").click()\n",
    "tabla3.find_element(\"xpath\",\"/html/body/div/main/form/ul/li[1]/ul/li[4]/div/fieldset/select/option[4]\").click()\n",
    "\n",
    "#click en Buscar\n",
    "body.find_element(\"xpath\",\"/html/body/div/main/form/div[5]/input[3]\").click()\n",
    "sleep(2)\n",
    "\n",
    "# Click en descargar\n",
    "driver.find_element(\"xpath\",\"/html/body/div[1]/main/ul/li/div/div/form[2]/button\").click()\n",
    "sleep(1)\n",
    "#Esperar que aparezca el iframe\n",
    "select_download = WebDriverWait(driver,40).until(EC.presence_of_element_located(('xpath','/html/body/div[6]/article/div/div/iframe')))\n",
    "driver.switch_to.frame(select_download)\n",
    "sleep(2)\n",
    "try:\n",
    "    driver.find_element(\"xpath\", \"/html/body/form/ul/li[4]/label\").click()\n",
    "    print(\"Encontrado\")\n",
    "except:\n",
    "    print(\"Cagaste\")\n",
    "sleep(2)\n",
    "driver.quit()\n"
   ]
  },
  {
   "cell_type": "code",
   "execution_count": 101,
   "metadata": {},
   "outputs": [],
   "source": [
    "old_archivo = os.listdir(ruta_datos_y_datosdescargados)[0]\n",
    "new_archivo = \"DatosPIBPorProvincias2019-2021.csv\"\n",
    "os.rename(f\"{ruta_datos_y_datosdescargados}/{old_archivo}\",f\"{ruta_datos_y_datosdescargados}/{new_archivo}\")"
   ]
  },
  {
   "cell_type": "markdown",
   "metadata": {},
   "source": [
    "# API Red Eléctrica\n",
    " "
   ]
  },
  {
   "cell_type": "code",
   "execution_count": 132,
   "metadata": {},
   "outputs": [],
   "source": [
    "cod_comunidades = {'Ceuta': 8744,\n",
    "                        'Melilla': 8745,\n",
    "                        'Andalucía': 4,\n",
    "                        'Aragón': 5,\n",
    "                        'Cantabria': 6,\n",
    "                        'Castilla - La Mancha': 7,\n",
    "                        'Castilla y León': 8,\n",
    "                        'Cataluña': 9,\n",
    "                        'País Vasco': 10,\n",
    "                        'Principado de Asturias': 11,\n",
    "                        'Comunidad de Madrid': 13,\n",
    "                        'Comunidad Foral de Navarra': 14,\n",
    "                        'Comunitat Valenciana': 15,\n",
    "                        'Extremadura': 16,\n",
    "                        'Galicia': 17,\n",
    "                        'Illes Balears': 8743,\n",
    "                        'Canarias': 8742,\n",
    "                        'Región de Murcia': 21,\n",
    "                        'La Rioja': 20}"
   ]
  },
  {
   "cell_type": "code",
   "execution_count": 133,
   "metadata": {},
   "outputs": [],
   "source": [
    "years = [2019,2020,2021]\n",
    "ruta_years_demanda=\"datos/DatosDescargados/RedElectrica/EvolucionDemanda\"\n",
    "os.makedirs(ruta_years_demanda,exist_ok=True)\n",
    "ruta_years_generacion_electrica=\"datos/DatosDescargados/RedElectrica/GeneracionElectrica\"\n",
    "os.makedirs(ruta_years_generacion_electrica,exist_ok=True)\n",
    "for year in years:\n",
    "    routedemanda = f\"{ruta_years_demanda}/{year}\"\n",
    "    os.makedirs(routedemanda,exist_ok=True)\n",
    "    routegenelectric = f\"{ruta_years_generacion_electrica}/{year}\"\n",
    "    os.makedirs(routegenelectric,exist_ok=True)"
   ]
  },
  {
   "cell_type": "markdown",
   "metadata": {},
   "source": [
    "### Demanda\n",
    "- https://apidatos.ree.es/es/datos/demanda/evolucion?start_date={year}-01-01T00:00&end_date={year}-12-31T23:59&time_trunc=month&geo_limit=ccaa&geo_ids={codigo}"
   ]
  },
  {
   "cell_type": "code",
   "execution_count": 145,
   "metadata": {},
   "outputs": [
    {
     "name": "stderr",
     "output_type": "stream",
     "text": [
      "100%|██████████| 19/19 [03:41<00:00, 11.66s/it]\n"
     ]
    }
   ],
   "source": [
    "for comunidad,codigo in tqdm(cod_comunidades.items()):\n",
    "    for year in years:\n",
    "        \n",
    "        url = f\"https://apidatos.ree.es/es/datos/demanda/evolucion?start_date={year}-01-01T00:00&end_date={year}-12-31T23:59&time_trunc=month&geo_limit=ccaa&geo_ids={codigo}\"  \n",
    "        response = requests.get(url)\n",
    "\n",
    "        ruta_to_save = f\"{ruta_years_demanda}/{year}/demanda_{comunidad}_{year}.json\"\n",
    "        # Verificar si la solicitud fue exitosa\n",
    "        if response.status_code == 200:\n",
    "            datos = response.json()  # Convertir la respuesta en JSON\n",
    "            # Guardar los datos JSON en un archivo\n",
    "            with open(ruta_to_save, 'w') as f:\n",
    "                json.dump(datos, f, indent=4)\n",
    "        else:\n",
    "            print(f\"Error en la solicitud: {response.status_code},{comunidad}:{codigo}\")     "
   ]
  },
  {
   "cell_type": "markdown",
   "metadata": {},
   "source": [
    "### Generación Eléctrica\n",
    "- https://apidatos.ree.es/es/datos/generacion/estructura-renovables"
   ]
  },
  {
   "cell_type": "code",
   "execution_count": 146,
   "metadata": {},
   "outputs": [
    {
     "name": "stderr",
     "output_type": "stream",
     "text": [
      "  0%|          | 0/19 [00:00<?, ?it/s]"
     ]
    },
    {
     "name": "stdout",
     "output_type": "stream",
     "text": [
      "Error en la solicitud: 502,Ceuta:8744\n",
      "Error en la solicitud: 502,Ceuta:8744\n"
     ]
    },
    {
     "name": "stderr",
     "output_type": "stream",
     "text": [
      "  5%|▌         | 1/19 [00:07<02:17,  7.64s/it]"
     ]
    },
    {
     "name": "stdout",
     "output_type": "stream",
     "text": [
      "Error en la solicitud: 502,Ceuta:8744\n"
     ]
    },
    {
     "name": "stderr",
     "output_type": "stream",
     "text": [
      "100%|██████████| 19/19 [01:48<00:00,  5.72s/it]\n"
     ]
    }
   ],
   "source": [
    "for comunidad,codigo in tqdm(cod_comunidades.items()):\n",
    "    for year in years:\n",
    "        \n",
    "        url = f\"https://apidatos.ree.es/es/datos/generacion/estructura-renovables?start_date={year}-01-01T00:00&end_date={year}-12-31T23:59&time_trunc=month&geo_limit=ccaa&geo_ids={codigo}\"  \n",
    "        response = requests.get(url)\n",
    "\n",
    "        ruta_to_save = f\"{ruta_years_generacion_electrica}/{year}/generacion_electrica_{comunidad}_{year}.json\"\n",
    "        # Verificar si la solicitud fue exitosa\n",
    "        if response.status_code == 200:\n",
    "            datos = response.json()  # Convertir la respuesta en JSON\n",
    "            # Guardar los datos JSON en un archivo\n",
    "            with open(ruta_to_save, 'w') as f:\n",
    "                json.dump(datos, f, indent=4)\n",
    "        else:\n",
    "            print(f\"Error en la solicitud: {response.status_code},{comunidad}:{codigo}\")     "
   ]
  }
 ],
 "metadata": {
  "kernelspec": {
   "display_name": "Python 3",
   "language": "python",
   "name": "python3"
  },
  "language_info": {
   "codemirror_mode": {
    "name": "ipython",
    "version": 3
   },
   "file_extension": ".py",
   "mimetype": "text/x-python",
   "name": "python",
   "nbconvert_exporter": "python",
   "pygments_lexer": "ipython3",
   "version": "3.11.9"
  }
 },
 "nbformat": 4,
 "nbformat_minor": 2
}
